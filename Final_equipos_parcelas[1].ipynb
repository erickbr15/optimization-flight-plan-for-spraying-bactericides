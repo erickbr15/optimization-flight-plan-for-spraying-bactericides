{
 "cells": [
  {
   "cell_type": "markdown",
   "id": "735aa5f5",
   "metadata": {},
   "source": [
    "\n",
    "                        Instituto Tecnológico y de Estudios Superiores de Occidente\n",
    "\n",
    "\n",
    "                               MANEJO Y ANALISIS DE INFORMACION MASIVA\n",
    "\n",
    "\n",
    "                            Optimizacion para asignacion de equipos\n",
    "\n",
    "\n",
    "                                     Rodrigo Daniel Hernández Padilla\n",
    "                                          Erick Badillo\n",
    "\n",
    "\n",
    "\n",
    "                                Profesor ALBERTO DE OBESO y  LEOBARDO RUIZ ROUNTREE\n",
    "                            \n",
    "                            Tlaquepaque, Jalisco a 09 de Mayo de 2022\n"
   ]
  },
  {
   "cell_type": "code",
   "execution_count": 422,
   "id": "58e44bee",
   "metadata": {},
   "outputs": [
    {
     "data": {
      "text/html": [
       "<table>\n",
       "<thead><tr><th scope=col>dia_trabajo</th><th scope=col>id_parcela</th><th scope=col>area_parcela</th></tr></thead>\n",
       "<tbody>\n",
       "\t<tr><td>1    </td><td> 3   </td><td> 42.0</td></tr>\n",
       "\t<tr><td>1    </td><td> 8   </td><td>  6.0</td></tr>\n",
       "\t<tr><td>1    </td><td> 9   </td><td> 65.0</td></tr>\n",
       "\t<tr><td>1    </td><td>15   </td><td> 31.2</td></tr>\n",
       "\t<tr><td>1    </td><td>18   </td><td>  5.7</td></tr>\n",
       "\t<tr><td>1    </td><td>33   </td><td> 50.8</td></tr>\n",
       "\t<tr><td>2    </td><td> 2   </td><td> 10.8</td></tr>\n",
       "\t<tr><td>2    </td><td> 7   </td><td>  3.7</td></tr>\n",
       "\t<tr><td>2    </td><td>14   </td><td> 12.2</td></tr>\n",
       "\t<tr><td>2    </td><td>19   </td><td> 39.3</td></tr>\n",
       "\t<tr><td>2    </td><td>22   </td><td>100.0</td></tr>\n",
       "\t<tr><td>2    </td><td>30   </td><td> 35.0</td></tr>\n",
       "\t<tr><td>3    </td><td> 6   </td><td> 48.9</td></tr>\n",
       "\t<tr><td>3    </td><td>20   </td><td> 76.3</td></tr>\n",
       "\t<tr><td>3    </td><td>31   </td><td> 38.7</td></tr>\n",
       "\t<tr><td>3    </td><td>34   </td><td> 37.0</td></tr>\n",
       "\t<tr><td>4    </td><td> 0   </td><td>  9.7</td></tr>\n",
       "\t<tr><td>4    </td><td> 1   </td><td> 11.7</td></tr>\n",
       "\t<tr><td>4    </td><td> 4   </td><td> 12.0</td></tr>\n",
       "\t<tr><td>4    </td><td> 5   </td><td>  7.4</td></tr>\n",
       "\t<tr><td>4    </td><td>12   </td><td> 12.2</td></tr>\n",
       "\t<tr><td>4    </td><td>13   </td><td> 44.8</td></tr>\n",
       "\t<tr><td>4    </td><td>21   </td><td>  9.6</td></tr>\n",
       "\t<tr><td>4    </td><td>25   </td><td> 38.9</td></tr>\n",
       "\t<tr><td>4    </td><td>26   </td><td> 12.0</td></tr>\n",
       "\t<tr><td>4    </td><td>28   </td><td>  2.8</td></tr>\n",
       "\t<tr><td>4    </td><td>29   </td><td>  9.6</td></tr>\n",
       "\t<tr><td>4    </td><td>32   </td><td> 28.5</td></tr>\n",
       "\t<tr><td>5    </td><td>10   </td><td> 24.1</td></tr>\n",
       "\t<tr><td>5    </td><td>11   </td><td> 37.5</td></tr>\n",
       "\t<tr><td>5    </td><td>16   </td><td>  1.5</td></tr>\n",
       "\t<tr><td>5    </td><td>17   </td><td>  5.8</td></tr>\n",
       "\t<tr><td>5    </td><td>23   </td><td> 16.1</td></tr>\n",
       "\t<tr><td>5    </td><td>24   </td><td> 45.1</td></tr>\n",
       "\t<tr><td>5    </td><td>27   </td><td>  5.9</td></tr>\n",
       "\t<tr><td>5    </td><td>35   </td><td> 21.3</td></tr>\n",
       "</tbody>\n",
       "</table>\n"
      ],
      "text/latex": [
       "\\begin{tabular}{r|lll}\n",
       " dia\\_trabajo & id\\_parcela & area\\_parcela\\\\\n",
       "\\hline\n",
       "\t 1     &  3    &  42.0\\\\\n",
       "\t 1     &  8    &   6.0\\\\\n",
       "\t 1     &  9    &  65.0\\\\\n",
       "\t 1     & 15    &  31.2\\\\\n",
       "\t 1     & 18    &   5.7\\\\\n",
       "\t 1     & 33    &  50.8\\\\\n",
       "\t 2     &  2    &  10.8\\\\\n",
       "\t 2     &  7    &   3.7\\\\\n",
       "\t 2     & 14    &  12.2\\\\\n",
       "\t 2     & 19    &  39.3\\\\\n",
       "\t 2     & 22    & 100.0\\\\\n",
       "\t 2     & 30    &  35.0\\\\\n",
       "\t 3     &  6    &  48.9\\\\\n",
       "\t 3     & 20    &  76.3\\\\\n",
       "\t 3     & 31    &  38.7\\\\\n",
       "\t 3     & 34    &  37.0\\\\\n",
       "\t 4     &  0    &   9.7\\\\\n",
       "\t 4     &  1    &  11.7\\\\\n",
       "\t 4     &  4    &  12.0\\\\\n",
       "\t 4     &  5    &   7.4\\\\\n",
       "\t 4     & 12    &  12.2\\\\\n",
       "\t 4     & 13    &  44.8\\\\\n",
       "\t 4     & 21    &   9.6\\\\\n",
       "\t 4     & 25    &  38.9\\\\\n",
       "\t 4     & 26    &  12.0\\\\\n",
       "\t 4     & 28    &   2.8\\\\\n",
       "\t 4     & 29    &   9.6\\\\\n",
       "\t 4     & 32    &  28.5\\\\\n",
       "\t 5     & 10    &  24.1\\\\\n",
       "\t 5     & 11    &  37.5\\\\\n",
       "\t 5     & 16    &   1.5\\\\\n",
       "\t 5     & 17    &   5.8\\\\\n",
       "\t 5     & 23    &  16.1\\\\\n",
       "\t 5     & 24    &  45.1\\\\\n",
       "\t 5     & 27    &   5.9\\\\\n",
       "\t 5     & 35    &  21.3\\\\\n",
       "\\end{tabular}\n"
      ],
      "text/markdown": [
       "\n",
       "| dia_trabajo | id_parcela | area_parcela |\n",
       "|---|---|---|\n",
       "| 1     |  3    |  42.0 |\n",
       "| 1     |  8    |   6.0 |\n",
       "| 1     |  9    |  65.0 |\n",
       "| 1     | 15    |  31.2 |\n",
       "| 1     | 18    |   5.7 |\n",
       "| 1     | 33    |  50.8 |\n",
       "| 2     |  2    |  10.8 |\n",
       "| 2     |  7    |   3.7 |\n",
       "| 2     | 14    |  12.2 |\n",
       "| 2     | 19    |  39.3 |\n",
       "| 2     | 22    | 100.0 |\n",
       "| 2     | 30    |  35.0 |\n",
       "| 3     |  6    |  48.9 |\n",
       "| 3     | 20    |  76.3 |\n",
       "| 3     | 31    |  38.7 |\n",
       "| 3     | 34    |  37.0 |\n",
       "| 4     |  0    |   9.7 |\n",
       "| 4     |  1    |  11.7 |\n",
       "| 4     |  4    |  12.0 |\n",
       "| 4     |  5    |   7.4 |\n",
       "| 4     | 12    |  12.2 |\n",
       "| 4     | 13    |  44.8 |\n",
       "| 4     | 21    |   9.6 |\n",
       "| 4     | 25    |  38.9 |\n",
       "| 4     | 26    |  12.0 |\n",
       "| 4     | 28    |   2.8 |\n",
       "| 4     | 29    |   9.6 |\n",
       "| 4     | 32    |  28.5 |\n",
       "| 5     | 10    |  24.1 |\n",
       "| 5     | 11    |  37.5 |\n",
       "| 5     | 16    |   1.5 |\n",
       "| 5     | 17    |   5.8 |\n",
       "| 5     | 23    |  16.1 |\n",
       "| 5     | 24    |  45.1 |\n",
       "| 5     | 27    |   5.9 |\n",
       "| 5     | 35    |  21.3 |\n",
       "\n"
      ],
      "text/plain": [
       "   dia_trabajo id_parcela area_parcela\n",
       "1  1            3          42.0       \n",
       "2  1            8           6.0       \n",
       "3  1            9          65.0       \n",
       "4  1           15          31.2       \n",
       "5  1           18           5.7       \n",
       "6  1           33          50.8       \n",
       "7  2            2          10.8       \n",
       "8  2            7           3.7       \n",
       "9  2           14          12.2       \n",
       "10 2           19          39.3       \n",
       "11 2           22         100.0       \n",
       "12 2           30          35.0       \n",
       "13 3            6          48.9       \n",
       "14 3           20          76.3       \n",
       "15 3           31          38.7       \n",
       "16 3           34          37.0       \n",
       "17 4            0           9.7       \n",
       "18 4            1          11.7       \n",
       "19 4            4          12.0       \n",
       "20 4            5           7.4       \n",
       "21 4           12          12.2       \n",
       "22 4           13          44.8       \n",
       "23 4           21           9.6       \n",
       "24 4           25          38.9       \n",
       "25 4           26          12.0       \n",
       "26 4           28           2.8       \n",
       "27 4           29           9.6       \n",
       "28 4           32          28.5       \n",
       "29 5           10          24.1       \n",
       "30 5           11          37.5       \n",
       "31 5           16           1.5       \n",
       "32 5           17           5.8       \n",
       "33 5           23          16.1       \n",
       "34 5           24          45.1       \n",
       "35 5           27           5.9       \n",
       "36 5           35          21.3       "
      ]
     },
     "metadata": {},
     "output_type": "display_data"
    }
   ],
   "source": [
    "library(dplyr)\n",
    "library(genalg)\n",
    "\n",
    "\n",
    "#Lectura del data set de trabajo_dia_parcelas\n",
    "setwd('C:/Users/uidv0712/Documents/administrativos/Personal_documents/Maestria/Masivo_Datos/proyecto_final')\n",
    "trabajo_dia_parcelas <- read.csv('trabajo_dia_parcelas.csv', stringsAsFactors = F)\n",
    "(trabajo_dia_parcelas)"
   ]
  },
  {
   "cell_type": "code",
   "execution_count": 478,
   "id": "3122432c",
   "metadata": {},
   "outputs": [
    {
     "data": {
      "text/html": [
       "<table>\n",
       "<thead><tr><th scope=col>dia_trabajo</th><th scope=col>id_parcela</th><th scope=col>area_parcela</th></tr></thead>\n",
       "<tbody>\n",
       "\t<tr><td>5   </td><td>10  </td><td>24.1</td></tr>\n",
       "\t<tr><td>5   </td><td>11  </td><td>37.5</td></tr>\n",
       "\t<tr><td>5   </td><td>16  </td><td> 1.5</td></tr>\n",
       "\t<tr><td>5   </td><td>17  </td><td> 5.8</td></tr>\n",
       "\t<tr><td>5   </td><td>23  </td><td>16.1</td></tr>\n",
       "\t<tr><td>5   </td><td>24  </td><td>45.1</td></tr>\n",
       "\t<tr><td>5   </td><td>27  </td><td> 5.9</td></tr>\n",
       "\t<tr><td>5   </td><td>35  </td><td>21.3</td></tr>\n",
       "</tbody>\n",
       "</table>\n"
      ],
      "text/latex": [
       "\\begin{tabular}{r|lll}\n",
       " dia\\_trabajo & id\\_parcela & area\\_parcela\\\\\n",
       "\\hline\n",
       "\t 5    & 10   & 24.1\\\\\n",
       "\t 5    & 11   & 37.5\\\\\n",
       "\t 5    & 16   &  1.5\\\\\n",
       "\t 5    & 17   &  5.8\\\\\n",
       "\t 5    & 23   & 16.1\\\\\n",
       "\t 5    & 24   & 45.1\\\\\n",
       "\t 5    & 27   &  5.9\\\\\n",
       "\t 5    & 35   & 21.3\\\\\n",
       "\\end{tabular}\n"
      ],
      "text/markdown": [
       "\n",
       "| dia_trabajo | id_parcela | area_parcela |\n",
       "|---|---|---|\n",
       "| 5    | 10   | 24.1 |\n",
       "| 5    | 11   | 37.5 |\n",
       "| 5    | 16   |  1.5 |\n",
       "| 5    | 17   |  5.8 |\n",
       "| 5    | 23   | 16.1 |\n",
       "| 5    | 24   | 45.1 |\n",
       "| 5    | 27   |  5.9 |\n",
       "| 5    | 35   | 21.3 |\n",
       "\n"
      ],
      "text/plain": [
       "  dia_trabajo id_parcela area_parcela\n",
       "1 5           10         24.1        \n",
       "2 5           11         37.5        \n",
       "3 5           16          1.5        \n",
       "4 5           17          5.8        \n",
       "5 5           23         16.1        \n",
       "6 5           24         45.1        \n",
       "7 5           27          5.9        \n",
       "8 5           35         21.3        "
      ]
     },
     "metadata": {},
     "output_type": "display_data"
    }
   ],
   "source": [
    "#una vez que se tiene, ahora se filtrará por dia de trabajo\n",
    "#se Selecciona el dia que se va a trabajar\n",
    "\n",
    "\n",
    "dia1 <- filter(trabajo_dia_parcelas,dia_trabajo == '1')\n",
    "dia2 <- filter(trabajo_dia_parcelas,dia_trabajo == '2')\n",
    "dia3 <- filter(trabajo_dia_parcelas,dia_trabajo == '3')\n",
    "dia4 <- filter(trabajo_dia_parcelas,dia_trabajo == '4')\n",
    "dia5 <- filter(trabajo_dia_parcelas,dia_trabajo == '5')\n",
    "\n",
    "current_day = dia5\n",
    "current_day\n"
   ]
  },
  {
   "cell_type": "code",
   "execution_count": 479,
   "id": "5b9793ab",
   "metadata": {},
   "outputs": [],
   "source": [
    "#definicion de los equipos: aqui se definen los equipos y el beneficio que tiene\n",
    "#es decir, cada equipo tiene un peso en el cual se refiere a la cantidad de equipos necesarios por parcela\n",
    "\n",
    "\n",
    "equipos <- c(\"equipo_1\",\"equipo_2\",\"equipo_3\",\"equipo_4\",\"equipo_5\")\n",
    "beneficio <- c(10,20,30,40,50)\n",
    "\n",
    " plan.equipos <- data.frame(\n",
    " equipos = equipos,\n",
    " beneficio = beneficio\n",
    "    )"
   ]
  },
  {
   "cell_type": "code",
   "execution_count": 480,
   "id": "eaecee0e",
   "metadata": {},
   "outputs": [],
   "source": [
    "#inicializacion de valores y se hace cada vez que se cambia de dia\n",
    "\n",
    "candidate.1 <- c(0,0,0,0,0)\n",
    "equipo_total = 12\n",
    "equipos_usados = 0\n",
    "# se obtiene  la sumatoria de las parcelas a trabajar\n",
    "area_total=sum(current_day$area_parcela)\n",
    "area_total_restante = area_total\n",
    "parcelas_completadas = 0\n",
    "num_parcela = 1\n",
    "equipos_restantes = equipo_total\n",
    "\n",
    " final <- data.frame (id_parcela = c (),\n",
    "                 area = c (),\n",
    "                 grupo = c ())\n",
    "\n",
    "\n",
    "\n",
    "\n",
    "\n"
   ]
  },
  {
   "cell_type": "code",
   "execution_count": 481,
   "id": "df715493",
   "metadata": {},
   "outputs": [
    {
     "name": "stdout",
     "output_type": "stream",
     "text": [
      "[1] \"parcela_area\"\n"
     ]
    },
    {
     "data": {
      "text/html": [
       "24.1"
      ],
      "text/latex": [
       "24.1"
      ],
      "text/markdown": [
       "24.1"
      ],
      "text/plain": [
       "[1] 24.1"
      ]
     },
     "metadata": {},
     "output_type": "display_data"
    },
    {
     "name": "stdout",
     "output_type": "stream",
     "text": [
      "[1] \"equipos_restantes\"\n"
     ]
    },
    {
     "data": {
      "text/html": [
       "12"
      ],
      "text/latex": [
       "12"
      ],
      "text/markdown": [
       "12"
      ],
      "text/plain": [
       "[1] 12"
      ]
     },
     "metadata": {},
     "output_type": "display_data"
    },
    {
     "name": "stdout",
     "output_type": "stream",
     "text": [
      "[1] \"parcelas_restantes\"\n"
     ]
    },
    {
     "data": {
      "text/html": [
       "7"
      ],
      "text/latex": [
       "7"
      ],
      "text/markdown": [
       "7"
      ],
      "text/plain": [
       "[1] 7"
      ]
     },
     "metadata": {},
     "output_type": "display_data"
    },
    {
     "name": "stdout",
     "output_type": "stream",
     "text": [
      "[1] \"area_total_restante\"\n"
     ]
    },
    {
     "data": {
      "text/html": [
       "157.3"
      ],
      "text/latex": [
       "157.3"
      ],
      "text/markdown": [
       "157.3"
      ],
      "text/plain": [
       "[1] 157.3"
      ]
     },
     "metadata": {},
     "output_type": "display_data"
    }
   ],
   "source": [
    "#funcion para optener los valores a evaluar\n",
    "\n",
    "#obtencion de la parcela a analizar\n",
    "print(\"parcela_area\")\n",
    "parcela_area_analizar = current_day[num_parcela,\"area_parcela\"]\n",
    "parcela_area_analizar\n",
    "\n",
    "#definicion de equipos\n",
    "print(\"equipos_restantes\")\n",
    "equipos_restantes\n",
    "\n",
    "#definicion de parcelas restantes\n",
    "print(\"parcelas_restantes\")\n",
    "parcelas_restantes <- nrow(current_day) - num_parcela\n",
    "parcelas_restantes\n",
    "\n",
    "#definion de area de parcelas restantes\n",
    "print(\"area_total_restante\")\n",
    "area_total_restante "
   ]
  },
  {
   "cell_type": "code",
   "execution_count": 308,
   "id": "c0fc3b1e",
   "metadata": {},
   "outputs": [],
   "source": [
    "fitness.parcela <- function(candidate.1) {\n",
    "    bene=plan.equipos$beneficio   \n",
    "    algo=candidate.1%*%bene\n",
    "    a=0\n",
    "\n",
    "                if (algo > 0 & algo <= 10 & parcela_area_analizar > 0 & parcela_area_analizar < 25)     \n",
    "                {\n",
    "                a= .0001 * algo\n",
    "                }\n",
    "\n",
    "                if (algo > 10 & algo <= 20 & parcela_area_analizar >= 25 & parcela_area_analizar < 45 )   \n",
    "                {\n",
    "                 a= .001 * algo\n",
    "                }\n",
    "\n",
    "                if (algo > 20 & algo <= 30 & parcela_area_analizar >= 45 & parcela_area_analizar < 65 )   \n",
    "                {\n",
    "                 a= .01 * algo\n",
    "                }\n",
    "                \n",
    "                if (algo > 30 & algo <= 40 & parcela_area_analizar >= 65 & parcela_area_analizar < 85)   \n",
    "                {\n",
    "                 a= 1 * algo\n",
    "                }\n",
    "\n",
    "                if (algo > 40 & parcela_area_analizar >= 80 )    \n",
    "                {\n",
    "                a= .00001 * algo\n",
    "                } \n",
    "\n",
    "                if (a == 0)\n",
    "                {   \n",
    "                a=9000\n",
    "                }    \n",
    "\n",
    "return (a)\n",
    "       \n",
    "}\n"
   ]
  },
  {
   "cell_type": "code",
   "execution_count": 496,
   "id": "dbaac288",
   "metadata": {},
   "outputs": [
    {
     "name": "stdout",
     "output_type": "stream",
     "text": [
      "GA Settings\n",
      "  Type                  = binary chromosome\n",
      "  Population size       = 50\n",
      "  Number of Generations = 500\n",
      "  Elitism               = 10\n",
      "  Mutation Chance       = 0.01\n",
      "\n",
      "Search Domain\n",
      "  Var 1 = [,]\n",
      "  Var 0 = [,]\n",
      "\n",
      "GA Results\n",
      "  Best Solution : 1 0 0 0 0 \n"
     ]
    },
    {
     "data": {
      "text/html": [
       "<dl>\n",
       "\t<dt>$names</dt>\n",
       "\t\t<dd><ol class=list-inline>\n",
       "\t<li>'type'</li>\n",
       "\t<li>'size'</li>\n",
       "\t<li>'popSize'</li>\n",
       "\t<li>'iters'</li>\n",
       "\t<li>'suggestions'</li>\n",
       "\t<li>'population'</li>\n",
       "\t<li>'elitism'</li>\n",
       "\t<li>'mutationChance'</li>\n",
       "\t<li>'evaluations'</li>\n",
       "\t<li>'best'</li>\n",
       "\t<li>'mean'</li>\n",
       "</ol>\n",
       "</dd>\n",
       "\t<dt>$class</dt>\n",
       "\t\t<dd>'rbga'</dd>\n",
       "</dl>\n"
      ],
      "text/latex": [
       "\\begin{description}\n",
       "\\item[\\$names] \\begin{enumerate*}\n",
       "\\item 'type'\n",
       "\\item 'size'\n",
       "\\item 'popSize'\n",
       "\\item 'iters'\n",
       "\\item 'suggestions'\n",
       "\\item 'population'\n",
       "\\item 'elitism'\n",
       "\\item 'mutationChance'\n",
       "\\item 'evaluations'\n",
       "\\item 'best'\n",
       "\\item 'mean'\n",
       "\\end{enumerate*}\n",
       "\n",
       "\\item[\\$class] 'rbga'\n",
       "\\end{description}\n"
      ],
      "text/markdown": [
       "$names\n",
       ":   1. 'type'\n",
       "2. 'size'\n",
       "3. 'popSize'\n",
       "4. 'iters'\n",
       "5. 'suggestions'\n",
       "6. 'population'\n",
       "7. 'elitism'\n",
       "8. 'mutationChance'\n",
       "9. 'evaluations'\n",
       "10. 'best'\n",
       "11. 'mean'\n",
       "\n",
       "\n",
       "\n",
       "$class\n",
       ":   'rbga'\n",
       "\n",
       "\n"
      ],
      "text/plain": [
       "$names\n",
       " [1] \"type\"           \"size\"           \"popSize\"        \"iters\"         \n",
       " [5] \"suggestions\"    \"population\"     \"elitism\"        \"mutationChance\"\n",
       " [9] \"evaluations\"    \"best\"           \"mean\"          \n",
       "\n",
       "$class\n",
       "[1] \"rbga\"\n"
      ]
     },
     "metadata": {},
     "output_type": "display_data"
    }
   ],
   "source": [
    "# el genético\n",
    "\n",
    "ga.tree <- rbga.bin(size=nrow(plan.equipos), popSize=nrow(plan.equipos)*10,\n",
    " mutationChance=.01,\n",
    " elitism=as.integer(nrow(plan.equipos)*10 / 5),\n",
    " iters=500,\n",
    " evalFunc=fitness.parcela,\n",
    " verbose = FALSE)\n",
    " summary(ga.tree, echo = T)\n",
    " attributes(ga.tree)"
   ]
  },
  {
   "cell_type": "code",
   "execution_count": 497,
   "id": "bd1d761a",
   "metadata": {},
   "outputs": [
    {
     "name": "stdout",
     "output_type": "stream",
     "text": [
      "[1] \"parcela_area analizada\"\n"
     ]
    },
    {
     "data": {
      "text/html": [
       "21.3"
      ],
      "text/latex": [
       "21.3"
      ],
      "text/markdown": [
       "21.3"
      ],
      "text/plain": [
       "[1] 21.3"
      ]
     },
     "metadata": {},
     "output_type": "display_data"
    },
    {
     "name": "stdout",
     "output_type": "stream",
     "text": [
      "[1] \"Equipos_asignados\"\n"
     ]
    },
    {
     "data": {
      "text/html": [
       "<table>\n",
       "<tbody>\n",
       "\t<tr><td>1</td></tr>\n",
       "</tbody>\n",
       "</table>\n"
      ],
      "text/latex": [
       "\\begin{tabular}{l}\n",
       "\t 1\\\\\n",
       "\\end{tabular}\n"
      ],
      "text/markdown": [
       "\n",
       "| 1 |\n",
       "\n"
      ],
      "text/plain": [
       "     [,1]\n",
       "[1,] 1   "
      ]
     },
     "metadata": {},
     "output_type": "display_data"
    },
    {
     "name": "stdout",
     "output_type": "stream",
     "text": [
      "[1] \"equipos_restantes\"\n"
     ]
    },
    {
     "data": {
      "text/html": [
       "<table>\n",
       "<tbody>\n",
       "\t<tr><td>1</td></tr>\n",
       "</tbody>\n",
       "</table>\n"
      ],
      "text/latex": [
       "\\begin{tabular}{l}\n",
       "\t 1\\\\\n",
       "\\end{tabular}\n"
      ],
      "text/markdown": [
       "\n",
       "| 1 |\n",
       "\n"
      ],
      "text/plain": [
       "     [,1]\n",
       "[1,] 1   "
      ]
     },
     "metadata": {},
     "output_type": "display_data"
    },
    {
     "name": "stdout",
     "output_type": "stream",
     "text": [
      "[1] \"parcelas_restantes\"\n"
     ]
    },
    {
     "data": {
      "text/html": [
       "0"
      ],
      "text/latex": [
       "0"
      ],
      "text/markdown": [
       "0"
      ],
      "text/plain": [
       "[1] 0"
      ]
     },
     "metadata": {},
     "output_type": "display_data"
    },
    {
     "name": "stdout",
     "output_type": "stream",
     "text": [
      "[1] \"area_total_restante\"\n"
     ]
    },
    {
     "data": {
      "text/html": [
       "1.06581410364015e-14"
      ],
      "text/latex": [
       "1.06581410364015e-14"
      ],
      "text/markdown": [
       "1.06581410364015e-14"
      ],
      "text/plain": [
       "[1] 1.065814e-14"
      ]
     },
     "metadata": {},
     "output_type": "display_data"
    },
    {
     "data": {
      "text/html": [
       "<table>\n",
       "<thead><tr><th scope=col>id_parcela</th><th scope=col>area</th><th scope=col>grupo</th></tr></thead>\n",
       "<tbody>\n",
       "\t<tr><td>10  </td><td>24.1</td><td>1   </td></tr>\n",
       "\t<tr><td>11  </td><td>37.5</td><td>2   </td></tr>\n",
       "\t<tr><td>16  </td><td> 1.5</td><td>1   </td></tr>\n",
       "\t<tr><td>17  </td><td> 5.8</td><td>1   </td></tr>\n",
       "\t<tr><td>23  </td><td>16.1</td><td>1   </td></tr>\n",
       "\t<tr><td>24  </td><td>45.1</td><td>3   </td></tr>\n",
       "\t<tr><td>27  </td><td> 5.9</td><td>1   </td></tr>\n",
       "\t<tr><td>35  </td><td>21.3</td><td>1   </td></tr>\n",
       "</tbody>\n",
       "</table>\n"
      ],
      "text/latex": [
       "\\begin{tabular}{r|lll}\n",
       " id\\_parcela & area & grupo\\\\\n",
       "\\hline\n",
       "\t 10   & 24.1 & 1   \\\\\n",
       "\t 11   & 37.5 & 2   \\\\\n",
       "\t 16   &  1.5 & 1   \\\\\n",
       "\t 17   &  5.8 & 1   \\\\\n",
       "\t 23   & 16.1 & 1   \\\\\n",
       "\t 24   & 45.1 & 3   \\\\\n",
       "\t 27   &  5.9 & 1   \\\\\n",
       "\t 35   & 21.3 & 1   \\\\\n",
       "\\end{tabular}\n"
      ],
      "text/markdown": [
       "\n",
       "| id_parcela | area | grupo |\n",
       "|---|---|---|\n",
       "| 10   | 24.1 | 1    |\n",
       "| 11   | 37.5 | 2    |\n",
       "| 16   |  1.5 | 1    |\n",
       "| 17   |  5.8 | 1    |\n",
       "| 23   | 16.1 | 1    |\n",
       "| 24   | 45.1 | 3    |\n",
       "| 27   |  5.9 | 1    |\n",
       "| 35   | 21.3 | 1    |\n",
       "\n"
      ],
      "text/plain": [
       "  id_parcela area grupo\n",
       "1 10         24.1 1    \n",
       "2 11         37.5 2    \n",
       "3 16          1.5 1    \n",
       "4 17          5.8 1    \n",
       "5 23         16.1 1    \n",
       "6 24         45.1 3    \n",
       "7 27          5.9 1    \n",
       "8 35         21.3 1    "
      ]
     },
     "metadata": {},
     "output_type": "display_data"
    }
   ],
   "source": [
    "#ga.tree$population\n",
    "#ga.tree$evaluation\n",
    "best <- ga.tree$population[ga.tree$evaluations == min(ga.tree$best),][1,]\n",
    "\n",
    "\n",
    "Equipos_asignados=(best%*%plan.equipos$beneficio)/10\n",
    "resultado <-  c(current_day[num_parcela,\"id_parcela\"],current_day[num_parcela,\"area_parcela\"],Equipos_asignados)\n",
    "final <- rbind(final,resultado)\n",
    "\n",
    "\n",
    "#Se imprime los resultados de la optimización\n",
    "\n",
    "print(\"parcela_area analizada\")\n",
    "parcela_area_analizar\n",
    "\n",
    "print(\"Equipos_asignados\")\n",
    "Equipos_asignados=(best%*%plan.equipos$beneficio)/10\n",
    "Equipos_asignados\n",
    "\n",
    "#definicion de equipos\n",
    "print(\"equipos_restantes\")\n",
    "equipos_restantes = equipos_restantes - Equipos_asignados\n",
    "equipos_restantes\n",
    "\n",
    "#definicion de parcelas restantes\n",
    "print(\"parcelas_restantes\")\n",
    "parcelas_restantes <- nrow(current_day) - num_parcela\n",
    "parcelas_restantes\n",
    "\n",
    "#definion de area de parcelas restantes\n",
    "print(\"area_total_restante\")\n",
    "area_total_restante = area_total_restante - parcela_area_analizar\n",
    "parcelas_completadas = parcelas_completadas  + parcela_area_analizar\n",
    "area_total_restante\n",
    "\n",
    "#siguiente parcela a analizar\n",
    "num_parcela = num_parcela + 1\n",
    "\n",
    "#Aqui se setenan los datos nuevamente para obtener el numero de parcelas restantes y su area restante\n",
    "parcela_area_analizar = current_day[num_parcela,\"area_parcela\"]\n",
    "parcelas_restantes <- nrow(current_day) - num_parcela\n",
    "\n",
    "names(final)<- c(\"id_parcela\",\"area\",\"grupo\")\n",
    "final\n",
    "\n",
    "\n",
    "\n",
    "\n"
   ]
  }
 ],
 "metadata": {
  "kernelspec": {
   "display_name": "R",
   "language": "R",
   "name": "ir"
  },
  "language_info": {
   "codemirror_mode": "r",
   "file_extension": ".r",
   "mimetype": "text/x-r-source",
   "name": "R",
   "pygments_lexer": "r",
   "version": "3.6.1"
  }
 },
 "nbformat": 4,
 "nbformat_minor": 5
}
